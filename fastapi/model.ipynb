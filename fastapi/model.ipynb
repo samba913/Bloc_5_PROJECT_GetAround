{
  "cells": [
    {
      "cell_type": "code",
      "execution_count": 6,
      "metadata": {},
      "outputs": [
        {
          "name": "stdout",
          "output_type": "stream",
          "text": [
            "Note: you may need to restart the kernel to use updated packages.\n"
          ]
        },
        {
          "name": "stderr",
          "output_type": "stream",
          "text": [
            "ERROR: Could not find a version that satisfies the requirement python (from versions: none)\n",
            "ERROR: No matching distribution found for python\n",
            "\n",
            "[notice] A new release of pip available: 22.3.1 -> 23.3.1\n",
            "[notice] To update, run: python.exe -m pip install --upgrade pip\n"
          ]
        }
      ],
      "source": [
        "pip install python\n"
      ]
    },
    {
      "cell_type": "code",
      "execution_count": 7,
      "metadata": {},
      "outputs": [
        {
          "name": "stdout",
          "output_type": "stream",
          "text": [
            "Collecting joblib\n",
            "  Using cached joblib-1.3.2-py3-none-any.whl (302 kB)\n",
            "Installing collected packages: joblib\n",
            "Successfully installed joblib-1.3.2\n",
            "Note: you may need to restart the kernel to use updated packages.\n"
          ]
        },
        {
          "name": "stderr",
          "output_type": "stream",
          "text": [
            "\n",
            "[notice] A new release of pip available: 22.3.1 -> 23.3.1\n",
            "[notice] To update, run: python.exe -m pip install --upgrade pip\n"
          ]
        }
      ],
      "source": [
        "pip install joblib"
      ]
    },
    {
      "cell_type": "code",
      "execution_count": 8,
      "metadata": {
        "id": "gTA7rUxSdC6H"
      },
      "outputs": [
        {
          "ename": "ModuleNotFoundError",
          "evalue": "No module named 'pandas'",
          "output_type": "error",
          "traceback": [
            "\u001b[1;31m---------------------------------------------------------------------------\u001b[0m",
            "\u001b[1;31mModuleNotFoundError\u001b[0m                       Traceback (most recent call last)",
            "\u001b[1;32mc:\\Users\\Bass OG\\Downloads\\wetransfer_getaround_2023-09-21_1026\\getaround\\Fast api\\model.ipynb Cell 3\u001b[0m line \u001b[0;36m1\n\u001b[1;32m----> <a href='vscode-notebook-cell:/c%3A/Users/Bass%20OG/Downloads/wetransfer_getaround_2023-09-21_1026/getaround/Fast%20api/model.ipynb#W0sZmlsZQ%3D%3D?line=0'>1</a>\u001b[0m \u001b[39mimport\u001b[39;00m \u001b[39mpandas\u001b[39;00m \u001b[39mas\u001b[39;00m \u001b[39mpd\u001b[39;00m\n\u001b[0;32m      <a href='vscode-notebook-cell:/c%3A/Users/Bass%20OG/Downloads/wetransfer_getaround_2023-09-21_1026/getaround/Fast%20api/model.ipynb#W0sZmlsZQ%3D%3D?line=1'>2</a>\u001b[0m \u001b[39mimport\u001b[39;00m \u001b[39mnumpy\u001b[39;00m \u001b[39mas\u001b[39;00m \u001b[39mnp\u001b[39;00m\n\u001b[0;32m      <a href='vscode-notebook-cell:/c%3A/Users/Bass%20OG/Downloads/wetransfer_getaround_2023-09-21_1026/getaround/Fast%20api/model.ipynb#W0sZmlsZQ%3D%3D?line=2'>3</a>\u001b[0m \u001b[39mimport\u001b[39;00m \u001b[39mjoblib\u001b[39;00m\n",
            "\u001b[1;31mModuleNotFoundError\u001b[0m: No module named 'pandas'"
          ]
        }
      ],
      "source": [
        "import pandas as pd\n",
        "import numpy as np\n",
        "import joblib\n",
        "\n",
        "import sklearn \n",
        "from sklearn.pipeline import Pipeline\n",
        "from sklearn.impute import SimpleImputer\n",
        "from sklearn.pipeline import make_pipeline\n",
        "from sklearn.model_selection import GridSearchCV\n",
        "from sklearn.compose import ColumnTransformer\n",
        "from sklearn.model_selection import train_test_split\n",
        "from sklearn.preprocessing import  OneHotEncoder, StandardScaler\n",
        "from sklearn.compose import ColumnTransformer\n",
        "from sklearn.linear_model import Ridge\n",
        "from sklearn.model_selection import cross_val_score, GridSearchCV\n",
        "from sklearn.linear_model import LinearRegression, Ridge, Lasso\n",
        "from sklearn.metrics import r2_score, mean_squared_error\n",
        "\n",
        "import xgboost\n",
        "from xgboost import XGBRegressor\n",
        "from sklearn.ensemble import GradientBoostingRegressor\n",
        "from xgboost import XGBRegressor\n",
        "\n",
        "\n"
      ]
    },
    {
      "cell_type": "code",
      "execution_count": 27,
      "metadata": {
        "colab": {
          "base_uri": "https://localhost:8080/",
          "height": 270
        },
        "id": "DjRJwIRNdRFP",
        "outputId": "0119c384-54f7-4496-b607-23a6aa777259"
      },
      "outputs": [
        {
          "data": {
            "text/html": [
              "<div>\n",
              "<style scoped>\n",
              "    .dataframe tbody tr th:only-of-type {\n",
              "        vertical-align: middle;\n",
              "    }\n",
              "\n",
              "    .dataframe tbody tr th {\n",
              "        vertical-align: top;\n",
              "    }\n",
              "\n",
              "    .dataframe thead th {\n",
              "        text-align: right;\n",
              "    }\n",
              "</style>\n",
              "<table border=\"1\" class=\"dataframe\">\n",
              "  <thead>\n",
              "    <tr style=\"text-align: right;\">\n",
              "      <th></th>\n",
              "      <th>model_key</th>\n",
              "      <th>mileage</th>\n",
              "      <th>engine_power</th>\n",
              "      <th>fuel</th>\n",
              "      <th>paint_color</th>\n",
              "      <th>car_type</th>\n",
              "      <th>private_parking_available</th>\n",
              "      <th>has_gps</th>\n",
              "      <th>has_air_conditioning</th>\n",
              "      <th>automatic_car</th>\n",
              "      <th>has_getaround_connect</th>\n",
              "      <th>has_speed_regulator</th>\n",
              "      <th>winter_tires</th>\n",
              "      <th>rental_price_per_day</th>\n",
              "    </tr>\n",
              "  </thead>\n",
              "  <tbody>\n",
              "    <tr>\n",
              "      <th>0</th>\n",
              "      <td>Citroën</td>\n",
              "      <td>140411</td>\n",
              "      <td>100</td>\n",
              "      <td>diesel</td>\n",
              "      <td>black</td>\n",
              "      <td>convertible</td>\n",
              "      <td>True</td>\n",
              "      <td>True</td>\n",
              "      <td>False</td>\n",
              "      <td>False</td>\n",
              "      <td>True</td>\n",
              "      <td>True</td>\n",
              "      <td>True</td>\n",
              "      <td>106</td>\n",
              "    </tr>\n",
              "    <tr>\n",
              "      <th>1</th>\n",
              "      <td>Citroën</td>\n",
              "      <td>13929</td>\n",
              "      <td>317</td>\n",
              "      <td>petrol</td>\n",
              "      <td>grey</td>\n",
              "      <td>convertible</td>\n",
              "      <td>True</td>\n",
              "      <td>True</td>\n",
              "      <td>False</td>\n",
              "      <td>False</td>\n",
              "      <td>False</td>\n",
              "      <td>True</td>\n",
              "      <td>True</td>\n",
              "      <td>264</td>\n",
              "    </tr>\n",
              "    <tr>\n",
              "      <th>2</th>\n",
              "      <td>Citroën</td>\n",
              "      <td>183297</td>\n",
              "      <td>120</td>\n",
              "      <td>diesel</td>\n",
              "      <td>white</td>\n",
              "      <td>convertible</td>\n",
              "      <td>False</td>\n",
              "      <td>False</td>\n",
              "      <td>False</td>\n",
              "      <td>False</td>\n",
              "      <td>True</td>\n",
              "      <td>False</td>\n",
              "      <td>True</td>\n",
              "      <td>101</td>\n",
              "    </tr>\n",
              "    <tr>\n",
              "      <th>3</th>\n",
              "      <td>Citroën</td>\n",
              "      <td>128035</td>\n",
              "      <td>135</td>\n",
              "      <td>diesel</td>\n",
              "      <td>red</td>\n",
              "      <td>convertible</td>\n",
              "      <td>True</td>\n",
              "      <td>True</td>\n",
              "      <td>False</td>\n",
              "      <td>False</td>\n",
              "      <td>True</td>\n",
              "      <td>True</td>\n",
              "      <td>True</td>\n",
              "      <td>158</td>\n",
              "    </tr>\n",
              "    <tr>\n",
              "      <th>4</th>\n",
              "      <td>Citroën</td>\n",
              "      <td>97097</td>\n",
              "      <td>160</td>\n",
              "      <td>diesel</td>\n",
              "      <td>silver</td>\n",
              "      <td>convertible</td>\n",
              "      <td>True</td>\n",
              "      <td>True</td>\n",
              "      <td>False</td>\n",
              "      <td>False</td>\n",
              "      <td>False</td>\n",
              "      <td>True</td>\n",
              "      <td>True</td>\n",
              "      <td>183</td>\n",
              "    </tr>\n",
              "  </tbody>\n",
              "</table>\n",
              "</div>"
            ],
            "text/plain": [
              "  model_key  mileage  engine_power    fuel paint_color     car_type  \\\n",
              "0   Citroën   140411           100  diesel       black  convertible   \n",
              "1   Citroën    13929           317  petrol        grey  convertible   \n",
              "2   Citroën   183297           120  diesel       white  convertible   \n",
              "3   Citroën   128035           135  diesel         red  convertible   \n",
              "4   Citroën    97097           160  diesel      silver  convertible   \n",
              "\n",
              "   private_parking_available  has_gps  has_air_conditioning  automatic_car  \\\n",
              "0                       True     True                 False          False   \n",
              "1                       True     True                 False          False   \n",
              "2                      False    False                 False          False   \n",
              "3                       True     True                 False          False   \n",
              "4                       True     True                 False          False   \n",
              "\n",
              "   has_getaround_connect  has_speed_regulator  winter_tires  \\\n",
              "0                   True                 True          True   \n",
              "1                  False                 True          True   \n",
              "2                   True                False          True   \n",
              "3                   True                 True          True   \n",
              "4                  False                 True          True   \n",
              "\n",
              "   rental_price_per_day  \n",
              "0                   106  \n",
              "1                   264  \n",
              "2                   101  \n",
              "3                   158  \n",
              "4                   183  "
            ]
          },
          "execution_count": 27,
          "metadata": {},
          "output_type": "execute_result"
        }
      ],
      "source": [
        "data = pd.read_csv(\"get_around_pricing_project.csv\", index_col=0)\n",
        "data.head()"
      ]
    },
    {
      "cell_type": "code",
      "execution_count": 28,
      "metadata": {
        "colab": {
          "base_uri": "https://localhost:8080/",
          "height": 1000
        },
        "id": "Evb1jCJCeJyl",
        "outputId": "8393539f-4e0a-45fd-fa21-95b7bcd9eafc"
      },
      "outputs": [
        {
          "name": "stdout",
          "output_type": "stream",
          "text": [
            "Number of rows : 4843\n",
            "\n",
            "Display of dataset: \n"
          ]
        },
        {
          "data": {
            "text/html": [
              "<div>\n",
              "<style scoped>\n",
              "    .dataframe tbody tr th:only-of-type {\n",
              "        vertical-align: middle;\n",
              "    }\n",
              "\n",
              "    .dataframe tbody tr th {\n",
              "        vertical-align: top;\n",
              "    }\n",
              "\n",
              "    .dataframe thead th {\n",
              "        text-align: right;\n",
              "    }\n",
              "</style>\n",
              "<table border=\"1\" class=\"dataframe\">\n",
              "  <thead>\n",
              "    <tr style=\"text-align: right;\">\n",
              "      <th></th>\n",
              "      <th>model_key</th>\n",
              "      <th>mileage</th>\n",
              "      <th>engine_power</th>\n",
              "      <th>fuel</th>\n",
              "      <th>paint_color</th>\n",
              "      <th>car_type</th>\n",
              "      <th>private_parking_available</th>\n",
              "      <th>has_gps</th>\n",
              "      <th>has_air_conditioning</th>\n",
              "      <th>automatic_car</th>\n",
              "      <th>has_getaround_connect</th>\n",
              "      <th>has_speed_regulator</th>\n",
              "      <th>winter_tires</th>\n",
              "      <th>rental_price_per_day</th>\n",
              "    </tr>\n",
              "  </thead>\n",
              "  <tbody>\n",
              "    <tr>\n",
              "      <th>0</th>\n",
              "      <td>Citroën</td>\n",
              "      <td>140411</td>\n",
              "      <td>100</td>\n",
              "      <td>diesel</td>\n",
              "      <td>black</td>\n",
              "      <td>convertible</td>\n",
              "      <td>True</td>\n",
              "      <td>True</td>\n",
              "      <td>False</td>\n",
              "      <td>False</td>\n",
              "      <td>True</td>\n",
              "      <td>True</td>\n",
              "      <td>True</td>\n",
              "      <td>106</td>\n",
              "    </tr>\n",
              "    <tr>\n",
              "      <th>1</th>\n",
              "      <td>Citroën</td>\n",
              "      <td>13929</td>\n",
              "      <td>317</td>\n",
              "      <td>petrol</td>\n",
              "      <td>grey</td>\n",
              "      <td>convertible</td>\n",
              "      <td>True</td>\n",
              "      <td>True</td>\n",
              "      <td>False</td>\n",
              "      <td>False</td>\n",
              "      <td>False</td>\n",
              "      <td>True</td>\n",
              "      <td>True</td>\n",
              "      <td>264</td>\n",
              "    </tr>\n",
              "    <tr>\n",
              "      <th>2</th>\n",
              "      <td>Citroën</td>\n",
              "      <td>183297</td>\n",
              "      <td>120</td>\n",
              "      <td>diesel</td>\n",
              "      <td>white</td>\n",
              "      <td>convertible</td>\n",
              "      <td>False</td>\n",
              "      <td>False</td>\n",
              "      <td>False</td>\n",
              "      <td>False</td>\n",
              "      <td>True</td>\n",
              "      <td>False</td>\n",
              "      <td>True</td>\n",
              "      <td>101</td>\n",
              "    </tr>\n",
              "    <tr>\n",
              "      <th>3</th>\n",
              "      <td>Citroën</td>\n",
              "      <td>128035</td>\n",
              "      <td>135</td>\n",
              "      <td>diesel</td>\n",
              "      <td>red</td>\n",
              "      <td>convertible</td>\n",
              "      <td>True</td>\n",
              "      <td>True</td>\n",
              "      <td>False</td>\n",
              "      <td>False</td>\n",
              "      <td>True</td>\n",
              "      <td>True</td>\n",
              "      <td>True</td>\n",
              "      <td>158</td>\n",
              "    </tr>\n",
              "    <tr>\n",
              "      <th>4</th>\n",
              "      <td>Citroën</td>\n",
              "      <td>97097</td>\n",
              "      <td>160</td>\n",
              "      <td>diesel</td>\n",
              "      <td>silver</td>\n",
              "      <td>convertible</td>\n",
              "      <td>True</td>\n",
              "      <td>True</td>\n",
              "      <td>False</td>\n",
              "      <td>False</td>\n",
              "      <td>False</td>\n",
              "      <td>True</td>\n",
              "      <td>True</td>\n",
              "      <td>183</td>\n",
              "    </tr>\n",
              "  </tbody>\n",
              "</table>\n",
              "</div>"
            ],
            "text/plain": [
              "  model_key  mileage  engine_power    fuel paint_color     car_type  \\\n",
              "0   Citroën   140411           100  diesel       black  convertible   \n",
              "1   Citroën    13929           317  petrol        grey  convertible   \n",
              "2   Citroën   183297           120  diesel       white  convertible   \n",
              "3   Citroën   128035           135  diesel         red  convertible   \n",
              "4   Citroën    97097           160  diesel      silver  convertible   \n",
              "\n",
              "   private_parking_available  has_gps  has_air_conditioning  automatic_car  \\\n",
              "0                       True     True                 False          False   \n",
              "1                       True     True                 False          False   \n",
              "2                      False    False                 False          False   \n",
              "3                       True     True                 False          False   \n",
              "4                       True     True                 False          False   \n",
              "\n",
              "   has_getaround_connect  has_speed_regulator  winter_tires  \\\n",
              "0                   True                 True          True   \n",
              "1                  False                 True          True   \n",
              "2                   True                False          True   \n",
              "3                   True                 True          True   \n",
              "4                  False                 True          True   \n",
              "\n",
              "   rental_price_per_day  \n",
              "0                   106  \n",
              "1                   264  \n",
              "2                   101  \n",
              "3                   158  \n",
              "4                   183  "
            ]
          },
          "metadata": {},
          "output_type": "display_data"
        },
        {
          "name": "stdout",
          "output_type": "stream",
          "text": [
            "\n",
            "Basics statistics: \n"
          ]
        },
        {
          "data": {
            "text/html": [
              "<div>\n",
              "<style scoped>\n",
              "    .dataframe tbody tr th:only-of-type {\n",
              "        vertical-align: middle;\n",
              "    }\n",
              "\n",
              "    .dataframe tbody tr th {\n",
              "        vertical-align: top;\n",
              "    }\n",
              "\n",
              "    .dataframe thead th {\n",
              "        text-align: right;\n",
              "    }\n",
              "</style>\n",
              "<table border=\"1\" class=\"dataframe\">\n",
              "  <thead>\n",
              "    <tr style=\"text-align: right;\">\n",
              "      <th></th>\n",
              "      <th>model_key</th>\n",
              "      <th>mileage</th>\n",
              "      <th>engine_power</th>\n",
              "      <th>fuel</th>\n",
              "      <th>paint_color</th>\n",
              "      <th>car_type</th>\n",
              "      <th>private_parking_available</th>\n",
              "      <th>has_gps</th>\n",
              "      <th>has_air_conditioning</th>\n",
              "      <th>automatic_car</th>\n",
              "      <th>has_getaround_connect</th>\n",
              "      <th>has_speed_regulator</th>\n",
              "      <th>winter_tires</th>\n",
              "      <th>rental_price_per_day</th>\n",
              "    </tr>\n",
              "  </thead>\n",
              "  <tbody>\n",
              "    <tr>\n",
              "      <th>count</th>\n",
              "      <td>4843</td>\n",
              "      <td>4.843000e+03</td>\n",
              "      <td>4843.00000</td>\n",
              "      <td>4843</td>\n",
              "      <td>4843</td>\n",
              "      <td>4843</td>\n",
              "      <td>4843</td>\n",
              "      <td>4843</td>\n",
              "      <td>4843</td>\n",
              "      <td>4843</td>\n",
              "      <td>4843</td>\n",
              "      <td>4843</td>\n",
              "      <td>4843</td>\n",
              "      <td>4843.000000</td>\n",
              "    </tr>\n",
              "    <tr>\n",
              "      <th>unique</th>\n",
              "      <td>28</td>\n",
              "      <td>NaN</td>\n",
              "      <td>NaN</td>\n",
              "      <td>4</td>\n",
              "      <td>10</td>\n",
              "      <td>8</td>\n",
              "      <td>2</td>\n",
              "      <td>2</td>\n",
              "      <td>2</td>\n",
              "      <td>2</td>\n",
              "      <td>2</td>\n",
              "      <td>2</td>\n",
              "      <td>2</td>\n",
              "      <td>NaN</td>\n",
              "    </tr>\n",
              "    <tr>\n",
              "      <th>top</th>\n",
              "      <td>Citroën</td>\n",
              "      <td>NaN</td>\n",
              "      <td>NaN</td>\n",
              "      <td>diesel</td>\n",
              "      <td>black</td>\n",
              "      <td>estate</td>\n",
              "      <td>True</td>\n",
              "      <td>True</td>\n",
              "      <td>False</td>\n",
              "      <td>False</td>\n",
              "      <td>False</td>\n",
              "      <td>False</td>\n",
              "      <td>True</td>\n",
              "      <td>NaN</td>\n",
              "    </tr>\n",
              "    <tr>\n",
              "      <th>freq</th>\n",
              "      <td>969</td>\n",
              "      <td>NaN</td>\n",
              "      <td>NaN</td>\n",
              "      <td>4641</td>\n",
              "      <td>1633</td>\n",
              "      <td>1606</td>\n",
              "      <td>2662</td>\n",
              "      <td>3839</td>\n",
              "      <td>3865</td>\n",
              "      <td>3881</td>\n",
              "      <td>2613</td>\n",
              "      <td>3674</td>\n",
              "      <td>4514</td>\n",
              "      <td>NaN</td>\n",
              "    </tr>\n",
              "    <tr>\n",
              "      <th>mean</th>\n",
              "      <td>NaN</td>\n",
              "      <td>1.409628e+05</td>\n",
              "      <td>128.98823</td>\n",
              "      <td>NaN</td>\n",
              "      <td>NaN</td>\n",
              "      <td>NaN</td>\n",
              "      <td>NaN</td>\n",
              "      <td>NaN</td>\n",
              "      <td>NaN</td>\n",
              "      <td>NaN</td>\n",
              "      <td>NaN</td>\n",
              "      <td>NaN</td>\n",
              "      <td>NaN</td>\n",
              "      <td>121.214536</td>\n",
              "    </tr>\n",
              "    <tr>\n",
              "      <th>std</th>\n",
              "      <td>NaN</td>\n",
              "      <td>6.019674e+04</td>\n",
              "      <td>38.99336</td>\n",
              "      <td>NaN</td>\n",
              "      <td>NaN</td>\n",
              "      <td>NaN</td>\n",
              "      <td>NaN</td>\n",
              "      <td>NaN</td>\n",
              "      <td>NaN</td>\n",
              "      <td>NaN</td>\n",
              "      <td>NaN</td>\n",
              "      <td>NaN</td>\n",
              "      <td>NaN</td>\n",
              "      <td>33.568268</td>\n",
              "    </tr>\n",
              "    <tr>\n",
              "      <th>min</th>\n",
              "      <td>NaN</td>\n",
              "      <td>-6.400000e+01</td>\n",
              "      <td>0.00000</td>\n",
              "      <td>NaN</td>\n",
              "      <td>NaN</td>\n",
              "      <td>NaN</td>\n",
              "      <td>NaN</td>\n",
              "      <td>NaN</td>\n",
              "      <td>NaN</td>\n",
              "      <td>NaN</td>\n",
              "      <td>NaN</td>\n",
              "      <td>NaN</td>\n",
              "      <td>NaN</td>\n",
              "      <td>10.000000</td>\n",
              "    </tr>\n",
              "    <tr>\n",
              "      <th>25%</th>\n",
              "      <td>NaN</td>\n",
              "      <td>1.029135e+05</td>\n",
              "      <td>100.00000</td>\n",
              "      <td>NaN</td>\n",
              "      <td>NaN</td>\n",
              "      <td>NaN</td>\n",
              "      <td>NaN</td>\n",
              "      <td>NaN</td>\n",
              "      <td>NaN</td>\n",
              "      <td>NaN</td>\n",
              "      <td>NaN</td>\n",
              "      <td>NaN</td>\n",
              "      <td>NaN</td>\n",
              "      <td>104.000000</td>\n",
              "    </tr>\n",
              "    <tr>\n",
              "      <th>50%</th>\n",
              "      <td>NaN</td>\n",
              "      <td>1.410800e+05</td>\n",
              "      <td>120.00000</td>\n",
              "      <td>NaN</td>\n",
              "      <td>NaN</td>\n",
              "      <td>NaN</td>\n",
              "      <td>NaN</td>\n",
              "      <td>NaN</td>\n",
              "      <td>NaN</td>\n",
              "      <td>NaN</td>\n",
              "      <td>NaN</td>\n",
              "      <td>NaN</td>\n",
              "      <td>NaN</td>\n",
              "      <td>119.000000</td>\n",
              "    </tr>\n",
              "    <tr>\n",
              "      <th>75%</th>\n",
              "      <td>NaN</td>\n",
              "      <td>1.751955e+05</td>\n",
              "      <td>135.00000</td>\n",
              "      <td>NaN</td>\n",
              "      <td>NaN</td>\n",
              "      <td>NaN</td>\n",
              "      <td>NaN</td>\n",
              "      <td>NaN</td>\n",
              "      <td>NaN</td>\n",
              "      <td>NaN</td>\n",
              "      <td>NaN</td>\n",
              "      <td>NaN</td>\n",
              "      <td>NaN</td>\n",
              "      <td>136.000000</td>\n",
              "    </tr>\n",
              "    <tr>\n",
              "      <th>max</th>\n",
              "      <td>NaN</td>\n",
              "      <td>1.000376e+06</td>\n",
              "      <td>423.00000</td>\n",
              "      <td>NaN</td>\n",
              "      <td>NaN</td>\n",
              "      <td>NaN</td>\n",
              "      <td>NaN</td>\n",
              "      <td>NaN</td>\n",
              "      <td>NaN</td>\n",
              "      <td>NaN</td>\n",
              "      <td>NaN</td>\n",
              "      <td>NaN</td>\n",
              "      <td>NaN</td>\n",
              "      <td>422.000000</td>\n",
              "    </tr>\n",
              "  </tbody>\n",
              "</table>\n",
              "</div>"
            ],
            "text/plain": [
              "       model_key       mileage  engine_power    fuel paint_color car_type  \\\n",
              "count       4843  4.843000e+03    4843.00000    4843        4843     4843   \n",
              "unique        28           NaN           NaN       4          10        8   \n",
              "top      Citroën           NaN           NaN  diesel       black   estate   \n",
              "freq         969           NaN           NaN    4641        1633     1606   \n",
              "mean         NaN  1.409628e+05     128.98823     NaN         NaN      NaN   \n",
              "std          NaN  6.019674e+04      38.99336     NaN         NaN      NaN   \n",
              "min          NaN -6.400000e+01       0.00000     NaN         NaN      NaN   \n",
              "25%          NaN  1.029135e+05     100.00000     NaN         NaN      NaN   \n",
              "50%          NaN  1.410800e+05     120.00000     NaN         NaN      NaN   \n",
              "75%          NaN  1.751955e+05     135.00000     NaN         NaN      NaN   \n",
              "max          NaN  1.000376e+06     423.00000     NaN         NaN      NaN   \n",
              "\n",
              "       private_parking_available has_gps has_air_conditioning automatic_car  \\\n",
              "count                       4843    4843                 4843          4843   \n",
              "unique                         2       2                    2             2   \n",
              "top                         True    True                False         False   \n",
              "freq                        2662    3839                 3865          3881   \n",
              "mean                         NaN     NaN                  NaN           NaN   \n",
              "std                          NaN     NaN                  NaN           NaN   \n",
              "min                          NaN     NaN                  NaN           NaN   \n",
              "25%                          NaN     NaN                  NaN           NaN   \n",
              "50%                          NaN     NaN                  NaN           NaN   \n",
              "75%                          NaN     NaN                  NaN           NaN   \n",
              "max                          NaN     NaN                  NaN           NaN   \n",
              "\n",
              "       has_getaround_connect has_speed_regulator winter_tires  \\\n",
              "count                   4843                4843         4843   \n",
              "unique                     2                   2            2   \n",
              "top                    False               False         True   \n",
              "freq                    2613                3674         4514   \n",
              "mean                     NaN                 NaN          NaN   \n",
              "std                      NaN                 NaN          NaN   \n",
              "min                      NaN                 NaN          NaN   \n",
              "25%                      NaN                 NaN          NaN   \n",
              "50%                      NaN                 NaN          NaN   \n",
              "75%                      NaN                 NaN          NaN   \n",
              "max                      NaN                 NaN          NaN   \n",
              "\n",
              "        rental_price_per_day  \n",
              "count            4843.000000  \n",
              "unique                   NaN  \n",
              "top                      NaN  \n",
              "freq                     NaN  \n",
              "mean              121.214536  \n",
              "std                33.568268  \n",
              "min                10.000000  \n",
              "25%               104.000000  \n",
              "50%               119.000000  \n",
              "75%               136.000000  \n",
              "max               422.000000  "
            ]
          },
          "metadata": {},
          "output_type": "display_data"
        },
        {
          "name": "stdout",
          "output_type": "stream",
          "text": [
            "\n",
            "Percentage of missing values: \n"
          ]
        },
        {
          "data": {
            "text/plain": [
              "model_key                    0.0\n",
              "mileage                      0.0\n",
              "engine_power                 0.0\n",
              "fuel                         0.0\n",
              "paint_color                  0.0\n",
              "car_type                     0.0\n",
              "private_parking_available    0.0\n",
              "has_gps                      0.0\n",
              "has_air_conditioning         0.0\n",
              "automatic_car                0.0\n",
              "has_getaround_connect        0.0\n",
              "has_speed_regulator          0.0\n",
              "winter_tires                 0.0\n",
              "rental_price_per_day         0.0\n",
              "dtype: float64"
            ]
          },
          "metadata": {},
          "output_type": "display_data"
        }
      ],
      "source": [
        "# Basic stats\n",
        "print(\"Number of rows : {}\".format(data.shape[0]))\n",
        "print()\n",
        "\n",
        "print(\"Display of dataset: \")\n",
        "display(data.head())\n",
        "print()\n",
        "\n",
        "print(\"Basics statistics: \")\n",
        "data_desc = data.describe(include='all')\n",
        "display(data_desc)\n",
        "print()\n",
        "\n",
        "print(\"Percentage of missing values: \")\n",
        "display(100*data.isnull().sum()/data.shape[0])"
      ]
    },
    {
      "cell_type": "code",
      "execution_count": 29,
      "metadata": {
        "colab": {
          "base_uri": "https://localhost:8080/"
        },
        "id": "TC3adOGzeMRm",
        "outputId": "57853597-1b85-46ea-8edf-5edacdab1c2d"
      },
      "outputs": [
        {
          "name": "stdout",
          "output_type": "stream",
          "text": [
            "Separating labels from features...\n",
            "...Done.\n",
            "\n",
            "Y : \n",
            "0    106\n",
            "1    264\n",
            "2    101\n",
            "3    158\n",
            "4    183\n",
            "Name: rental_price_per_day, dtype: int64\n",
            "\n",
            "X :\n",
            "  model_key  mileage  engine_power    fuel paint_color     car_type  \\\n",
            "0   Citroën   140411           100  diesel       black  convertible   \n",
            "1   Citroën    13929           317  petrol        grey  convertible   \n",
            "2   Citroën   183297           120  diesel       white  convertible   \n",
            "3   Citroën   128035           135  diesel         red  convertible   \n",
            "4   Citroën    97097           160  diesel      silver  convertible   \n",
            "\n",
            "   private_parking_available  has_gps  has_air_conditioning  automatic_car  \\\n",
            "0                       True     True                 False          False   \n",
            "1                       True     True                 False          False   \n",
            "2                      False    False                 False          False   \n",
            "3                       True     True                 False          False   \n",
            "4                       True     True                 False          False   \n",
            "\n",
            "   has_getaround_connect  has_speed_regulator  winter_tires  \n",
            "0                   True                 True          True  \n",
            "1                  False                 True          True  \n",
            "2                   True                False          True  \n",
            "3                   True                 True          True  \n",
            "4                  False                 True          True  \n"
          ]
        }
      ],
      "source": [
        "# Separate target variable Y from features X\n",
        "print(\"Separating labels from features...\")\n",
        "target_variable = \"rental_price_per_day\"\n",
        "\n",
        "X = data.drop(target_variable, axis = 1)\n",
        "Y = data.loc[:,target_variable]\n",
        "\n",
        "print(\"...Done.\")\n",
        "print()\n",
        "\n",
        "print('Y : ')\n",
        "print(Y.head())\n",
        "print()\n",
        "print('X :')\n",
        "print(X.head())"
      ]
    },
    {
      "cell_type": "code",
      "execution_count": 30,
      "metadata": {
        "id": "GIViqiQBfvYT"
      },
      "outputs": [],
      "source": [
        "# Division du jeu de données entre ensemble d'apprentissage et ensemble de test\n",
        "X_train, X_test, Y_train, Y_test = train_test_split(X, Y, test_size=0.2, random_state=0)"
      ]
    },
    {
      "cell_type": "code",
      "execution_count": 31,
      "metadata": {
        "colab": {
          "base_uri": "https://localhost:8080/"
        },
        "id": "aZSzrITLeUQM",
        "outputId": "bf8dfae1-e911-4bac-fa5d-1ea542170d85"
      },
      "outputs": [
        {
          "name": "stdout",
          "output_type": "stream",
          "text": [
            "Found numeric features  ['mileage', 'engine_power']\n",
            "Found categorical features  ['model_key', 'fuel', 'paint_color', 'car_type', 'private_parking_available', 'has_gps', 'has_air_conditioning', 'automatic_car', 'has_getaround_connect', 'has_speed_regulator', 'winter_tires']\n"
          ]
        }
      ],
      "source": [
        "# Automatically detect names of numeric/categorical columns\n",
        "numeric_features = []\n",
        "categorical_features = []\n",
        "for i,t in X.dtypes.items():\n",
        "    if ('float' in str(t)) or ('int' in str(t)) :\n",
        "        numeric_features.append(i)\n",
        "    else :\n",
        "        categorical_features.append(i)\n",
        "\n",
        "print('Found numeric features ', numeric_features)\n",
        "print('Found categorical features ', categorical_features)"
      ]
    },
    {
      "cell_type": "code",
      "execution_count": 32,
      "metadata": {
        "id": "5TSR8bIci8gt"
      },
      "outputs": [],
      "source": [
        "# Create pipeline for numeric features\n",
        "numeric_transformer = StandardScaler()\n",
        "\n",
        "# Create pipeline for categorical features\n",
        "categorical_transformer = OneHotEncoder(drop='first', handle_unknown='ignore', sparse=False)\n",
        "# drop='first' : permet de supprimer une colonne codée, pour éviter la colinéarité.\n",
        "# handle_unknown='ignore' : permet d'éviter les erreurs si des catégories inconnues apparaissent sur de nouvelles données à étudier (comme la marque ou une nouvelle couleur).\n",
        "\n",
        "\n",
        "## Combine the transformers into a single object / Use ColumnTransformer to make a preprocessor object that describes all the treatments to be done\n",
        "preprocessor = ColumnTransformer(\n",
        "    transformers=[\n",
        "        ('cat', categorical_transformer, categorical_features),\n",
        "        ('num', numeric_transformer, numeric_features)\n",
        "        ])"
      ]
    },
    {
      "cell_type": "code",
      "execution_count": null,
      "metadata": {
        "id": "dOVfWhedf845"
      },
      "outputs": [],
      "source": []
    },
    {
      "cell_type": "code",
      "execution_count": 33,
      "metadata": {
        "id": "5jllTNp6ghYK"
      },
      "outputs": [],
      "source": [
        "preprocesseur = ColumnTransformer(transformers=[('num', numeric_transformer, numeric_features),\n",
        "                                                ('cat', categorical_transformer, categorical_features)])"
      ]
    },
    {
      "cell_type": "code",
      "execution_count": 34,
      "metadata": {
        "id": "FN3W2ckPeYs4"
      },
      "outputs": [],
      "source": [
        "modele = Pipeline(steps=[(\"Preprocessing\", preprocesseur),\n",
        "                         (\"Regressor\", LinearRegression())\n",
        "                        ])"
      ]
    },
    {
      "cell_type": "code",
      "execution_count": 35,
      "metadata": {
        "colab": {
          "base_uri": "https://localhost:8080/"
        },
        "id": "vYKCEuTeg8ul",
        "outputId": "52f7fcf2-6cf1-4fad-99d4-f5640ac956c4"
      },
      "outputs": [
        {
          "name": "stdout",
          "output_type": "stream",
          "text": [
            "r2 on train set :  0.7156703443405992\n",
            "r2 on test set :  0.6892815152580108\n"
          ]
        },
        {
          "name": "stderr",
          "output_type": "stream",
          "text": [
            "C:\\Users\\Bass OG\\AppData\\Local\\Packages\\PythonSoftwareFoundation.Python.3.10_qbz5n2kfra8p0\\LocalCache\\local-packages\\Python310\\site-packages\\sklearn\\utils\\validation.py:623: FutureWarning: is_sparse is deprecated and will be removed in a future version. Check `isinstance(dtype, pd.SparseDtype)` instead.\n",
            "  if not hasattr(array, \"sparse\") and array.dtypes.apply(is_sparse).any():\n",
            "C:\\Users\\Bass OG\\AppData\\Local\\Packages\\PythonSoftwareFoundation.Python.3.10_qbz5n2kfra8p0\\LocalCache\\local-packages\\Python310\\site-packages\\sklearn\\utils\\validation.py:623: FutureWarning: is_sparse is deprecated and will be removed in a future version. Check `isinstance(dtype, pd.SparseDtype)` instead.\n",
            "  if not hasattr(array, \"sparse\") and array.dtypes.apply(is_sparse).any():\n",
            "C:\\Users\\Bass OG\\AppData\\Local\\Packages\\PythonSoftwareFoundation.Python.3.10_qbz5n2kfra8p0\\LocalCache\\local-packages\\Python310\\site-packages\\sklearn\\utils\\validation.py:623: FutureWarning: is_sparse is deprecated and will be removed in a future version. Check `isinstance(dtype, pd.SparseDtype)` instead.\n",
            "  if not hasattr(array, \"sparse\") and array.dtypes.apply(is_sparse).any():\n",
            "C:\\Users\\Bass OG\\AppData\\Local\\Packages\\PythonSoftwareFoundation.Python.3.10_qbz5n2kfra8p0\\LocalCache\\local-packages\\Python310\\site-packages\\sklearn\\utils\\validation.py:623: FutureWarning: is_sparse is deprecated and will be removed in a future version. Check `isinstance(dtype, pd.SparseDtype)` instead.\n",
            "  if not hasattr(array, \"sparse\") and array.dtypes.apply(is_sparse).any():\n",
            "C:\\Users\\Bass OG\\AppData\\Local\\Packages\\PythonSoftwareFoundation.Python.3.10_qbz5n2kfra8p0\\LocalCache\\local-packages\\Python310\\site-packages\\sklearn\\preprocessing\\_encoders.py:170: UserWarning: Found unknown categories in columns [0] during transform. These unknown categories will be encoded as all zeros\n",
            "  warnings.warn(\n"
          ]
        }
      ],
      "source": [
        "modele.fit(X_train, Y_train)\n",
        "\n",
        "train_pred = modele.predict(X_train)\n",
        "test_pred = modele.predict(X_test)\n",
        "\n",
        "print(\"r2 on train set : \", r2_score(Y_train, train_pred))\n",
        "print(\"r2 on test set : \", r2_score(Y_test, test_pred))"
      ]
    },
    {
      "cell_type": "code",
      "execution_count": 36,
      "metadata": {
        "id": "C1dY1Rw1hx-l"
      },
      "outputs": [],
      "source": [
        "model = Pipeline(steps=[\n",
        "        (\"Preprocessing\", preprocessor),\n",
        "        (\"Regressor\",XGBRegressor(learning_rate= 0.1, max_depth= 7, min_child_weight= 7, n_estimators= 170 ))\n",
        "    ])"
      ]
    },
    {
      "cell_type": "code",
      "execution_count": 37,
      "metadata": {
        "colab": {
          "base_uri": "https://localhost:8080/"
        },
        "id": "JlO6VxeJjdGM",
        "outputId": "19fc96ec-dcca-43fb-a30b-c0df6187e2e9"
      },
      "outputs": [
        {
          "name": "stderr",
          "output_type": "stream",
          "text": [
            "C:\\Users\\Bass OG\\AppData\\Local\\Packages\\PythonSoftwareFoundation.Python.3.10_qbz5n2kfra8p0\\LocalCache\\local-packages\\Python310\\site-packages\\sklearn\\utils\\validation.py:623: FutureWarning: is_sparse is deprecated and will be removed in a future version. Check `isinstance(dtype, pd.SparseDtype)` instead.\n",
            "  if not hasattr(array, \"sparse\") and array.dtypes.apply(is_sparse).any():\n",
            "C:\\Users\\Bass OG\\AppData\\Local\\Packages\\PythonSoftwareFoundation.Python.3.10_qbz5n2kfra8p0\\LocalCache\\local-packages\\Python310\\site-packages\\sklearn\\utils\\validation.py:623: FutureWarning: is_sparse is deprecated and will be removed in a future version. Check `isinstance(dtype, pd.SparseDtype)` instead.\n",
            "  if not hasattr(array, \"sparse\") and array.dtypes.apply(is_sparse).any():\n",
            "C:\\Users\\Bass OG\\AppData\\Local\\Packages\\PythonSoftwareFoundation.Python.3.10_qbz5n2kfra8p0\\LocalCache\\local-packages\\Python310\\site-packages\\xgboost\\data.py:427: FutureWarning: is_sparse is deprecated and will be removed in a future version. Check `isinstance(dtype, pd.SparseDtype)` instead.\n",
            "  if is_sparse(data):\n"
          ]
        },
        {
          "name": "stdout",
          "output_type": "stream",
          "text": [
            "r2 on train set :  0.9015350476817994\n",
            "r2 on test set :  0.7852230583167912\n"
          ]
        },
        {
          "name": "stderr",
          "output_type": "stream",
          "text": [
            "C:\\Users\\Bass OG\\AppData\\Local\\Packages\\PythonSoftwareFoundation.Python.3.10_qbz5n2kfra8p0\\LocalCache\\local-packages\\Python310\\site-packages\\sklearn\\utils\\validation.py:623: FutureWarning: is_sparse is deprecated and will be removed in a future version. Check `isinstance(dtype, pd.SparseDtype)` instead.\n",
            "  if not hasattr(array, \"sparse\") and array.dtypes.apply(is_sparse).any():\n",
            "C:\\Users\\Bass OG\\AppData\\Local\\Packages\\PythonSoftwareFoundation.Python.3.10_qbz5n2kfra8p0\\LocalCache\\local-packages\\Python310\\site-packages\\sklearn\\preprocessing\\_encoders.py:170: UserWarning: Found unknown categories in columns [0] during transform. These unknown categories will be encoded as all zeros\n",
            "  warnings.warn(\n",
            "C:\\Users\\Bass OG\\AppData\\Local\\Packages\\PythonSoftwareFoundation.Python.3.10_qbz5n2kfra8p0\\LocalCache\\local-packages\\Python310\\site-packages\\sklearn\\utils\\validation.py:623: FutureWarning: is_sparse is deprecated and will be removed in a future version. Check `isinstance(dtype, pd.SparseDtype)` instead.\n",
            "  if not hasattr(array, \"sparse\") and array.dtypes.apply(is_sparse).any():\n"
          ]
        }
      ],
      "source": [
        "model.fit(X_train, Y_train)\n",
        "\n",
        "train_predx = model.predict(X_train)\n",
        "test_predx = model.predict(X_test)\n",
        "\n",
        "print(\"r2 on train set : \", r2_score(Y_train, train_predx))\n",
        "print(\"r2 on test set : \", r2_score(Y_test, test_predx))"
      ]
    },
    {
      "cell_type": "code",
      "execution_count": 38,
      "metadata": {
        "colab": {
          "base_uri": "https://localhost:8080/"
        },
        "id": "x6GwHOu5jpWf",
        "outputId": "485092e7-418e-4303-f5c2-aca3a091626d"
      },
      "outputs": [
        {
          "data": {
            "text/plain": [
              "['model.joblib']"
            ]
          },
          "execution_count": 38,
          "metadata": {},
          "output_type": "execute_result"
        }
      ],
      "source": [
        "# dumping model\n",
        "from joblib import dump, load\n",
        "dump(model, 'model.joblib')"
      ]
    },
    {
      "cell_type": "code",
      "execution_count": null,
      "metadata": {
        "id": "cAdBSgxNpGzf"
      },
      "outputs": [],
      "source": []
    }
  ],
  "metadata": {
    "colab": {
      "provenance": []
    },
    "kernelspec": {
      "display_name": "Python 3",
      "name": "python3"
    },
    "language_info": {
      "codemirror_mode": {
        "name": "ipython",
        "version": 3
      },
      "file_extension": ".py",
      "mimetype": "text/x-python",
      "name": "python",
      "nbconvert_exporter": "python",
      "pygments_lexer": "ipython3",
      "version": "3.11.1"
    }
  },
  "nbformat": 4,
  "nbformat_minor": 0
}
